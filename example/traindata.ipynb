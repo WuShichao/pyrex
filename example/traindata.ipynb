{
 "cells": [
  {
   "cell_type": "code",
   "execution_count": 1,
   "metadata": {},
   "outputs": [],
   "source": [
    "import numpy as np\n",
    "from pyrex.tools import find_roots, find_intercept\n",
    "from pyrex.basics import write_HDF5, read_HDF5\n",
    "from pyrex.main import *"
   ]
  },
  {
   "cell_type": "markdown",
   "metadata": {},
   "source": [
    "# all data"
   ]
  },
  {
   "cell_type": "code",
   "execution_count": 2,
   "metadata": {},
   "outputs": [],
   "source": [
    "data_path = \"/Users/yesety/Documents/AEI/projects/eccentric/catalog_ecc/\"\n",
    "\n",
    "name=[]\n",
    "name.append(['SXS_BBH_0180','SXS_BBH_1355','SXS_BBH_1357','SXS_BBH_1358','SXS_BBH_1359','SXS_BBH_1360','SXS_BBH_1361','SXS_BBH_1362','SXS_BBH_1363'])\n",
    "name.append(['SXS_BBH_0184','SXS_BBH_1364','SXS_BBH_1365','SXS_BBH_1366','SXS_BBH_1367','SXS_BBH_1368','SXS_BBH_1369'])\n",
    "name.append(['SXS_BBH_0183','SXS_BBH_1372','SXS_BBH_1373','SXS_BBH_1374'])\n",
    "\n",
    "e_comm=[]\n",
    "e_comm.append([0,0.053,0.097,0.099,0.100,0.142,0.144,0.189,0.192])\n",
    "e_comm.append([0,0.044,0.06,0.095,0.096,0.097,0.185])\n",
    "e_comm.append([0,0.092,0.093,0.18]) #Hinder Phys Rev D 98 2018\n",
    "\n",
    "l_comm=[]\n",
    "l_comm.append([0.667,-2.788,1.371,-1.742,2.743,2.178,1.550,1.042,0.732])\n",
    "l_comm.append([-0.604,2.144,1.938,1.013,-0.709,-1.963,-1.465])\n",
    "l_comm.append([1.818,2.998,1.677,-0.265]) #Hinder Phys Rev D 98 201\n",
    "\n",
    "q=[]\n",
    "q.append(list(np.ones(len(e_comm[0]))+0))\n",
    "q.append(list(np.ones(len(e_comm[1]))+1))\n",
    "q.append(list(np.ones(len(e_comm[2]))+2))\n",
    "\n",
    "data={}\n",
    "data['name']=name[0]+name[1]+name[2]\n",
    "data['e_comm']=e_comm[0]+e_comm[1]+e_comm[2]\n",
    "data['q']=q[0]+q[1]+q[2]\n",
    "data['l_comm']=l_comm[0]+l_comm[1]+l_comm[2]"
   ]
  },
  {
   "cell_type": "markdown",
   "metadata": {},
   "source": [
    "# training & test data"
   ]
  },
  {
   "cell_type": "code",
   "execution_count": 3,
   "metadata": {},
   "outputs": [],
   "source": [
    "data_training={}\n",
    "data_training['name']=np.concatenate([data['name'][:3],data['name'][7:11],data['name'][14:17],data['name'][18:]])\n",
    "data_training['e_comm']=np.concatenate([data['e_comm'][:3],data['e_comm'][7:11],data['e_comm'][14:17],data['e_comm'][18:]])\n",
    "data_training['q']=np.concatenate([data['q'][:3],data['q'][7:11],data['q'][14:17],data['q'][18:]])\n",
    "data_training['l_comm']=np.concatenate([data['l_comm'][:3],data['l_comm'][7:11],data['l_comm'][14:17],data['l_comm'][18:]])\n",
    "\n",
    "data_test={}\n",
    "for i in range(len(data['name'])):\n",
    "    if data['name'][i] not in data_training['name']:\n",
    "        data_test.setdefault('name', []).append(data['name'][i])\n",
    "        data_test.setdefault('e_comm', []).append(data['e_comm'][i])\n",
    "        data_test.setdefault('q', []).append(data['q'][i])\n",
    "        data_test.setdefault('l_comm', []).append(data['l_comm'][i])"
   ]
  },
  {
   "cell_type": "code",
   "execution_count": 4,
   "metadata": {},
   "outputs": [],
   "source": [
    "training=Glassware(q=data_training['q'],chi=0,data_path=data_path,names=data_training['name'],e_ref=data_training['e_comm'])"
   ]
  },
  {
   "cell_type": "code",
   "execution_count": null,
   "metadata": {},
   "outputs": [],
   "source": []
  }
 ],
 "metadata": {
  "kernelspec": {
   "display_name": "Python3.6",
   "language": "python",
   "name": "py36"
  },
  "language_info": {
   "codemirror_mode": {
    "name": "ipython",
    "version": 3
   },
   "file_extension": ".py",
   "mimetype": "text/x-python",
   "name": "python",
   "nbconvert_exporter": "python",
   "pygments_lexer": "ipython3",
   "version": "3.6.3"
  }
 },
 "nbformat": 4,
 "nbformat_minor": 2
}
