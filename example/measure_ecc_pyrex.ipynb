{
 "cells": [
  {
   "cell_type": "code",
   "execution_count": 1,
   "metadata": {},
   "outputs": [],
   "source": [
    "import matplotlib.pyplot as plt\n",
    "import glob\n",
    "import pyrex"
   ]
  },
  {
   "cell_type": "code",
   "execution_count": 2,
   "metadata": {},
   "outputs": [],
   "source": [
    "data_path = \"/Users/yesety/Documents/AEI/projects/eccentric/catalog_ecc/\"\n",
    "files = [f for f in glob.glob(data_path + \"SXS*\")]\n",
    "\n",
    "e_comm2=[0,0.044,0.06,0.095,0.096,0.097,0.185] #Hinder Phys Rev D 98 2018\n",
    "#orb_ecc=[7.6e-5,0.079,0.114,0.215,0.213,0.212,1.8] #metadata\n",
    "\n",
    "t_peak=[3014.6,3200.3,3180.7,3073.2,2955.2,2850.,2616.4]\n",
    "nameq2=['SXS_BBH_0184','SXS_BBH_1364','SXS_BBH_1365','SXS_BBH_1366','SXS_BBH_1367','SXS_BBH_1368','SXS_BBH_1369']\n",
    "#nameq3=['SXS_BBH_0184','SXS_BBH_1364','SXS_BBH_1365','SXS_BBH_1366','SXS_BBH_1367','SXS_BBH_1368','SXS_BBH_1369']"
   ]
  },
  {
   "cell_type": "code",
   "execution_count": 3,
   "metadata": {},
   "outputs": [],
   "source": [
    "#train and test data\n",
    "\n",
    "train_e_comm2=[e_comm2[0],e_comm2[1],e_comm2[5],e_comm2[6]]\n",
    "train_name2=[name2[0],name2[1],name2[5],name2[6]]\n",
    "train_peak2=[t_peak[0],t_peak[1],t_peak[5],t_peak[6]]\n",
    "\n",
    "test_e_comm2=[e_comm2[2],e_comm2[3],e_comm2[4]]\n",
    "test_name2=[name2[2],name2[3],name2[4]]\n",
    "test_peak2=[t_peak[2],t_peak[3],t_peak[4]]"
   ]
  },
  {
   "cell_type": "code",
   "execution_count": null,
   "metadata": {},
   "outputs": [],
   "source": []
  }
 ],
 "metadata": {
  "kernelspec": {
   "display_name": "Python3.6",
   "language": "python",
   "name": "py36"
  },
  "language_info": {
   "codemirror_mode": {
    "name": "ipython",
    "version": 3
   },
   "file_extension": ".py",
   "mimetype": "text/x-python",
   "name": "python",
   "nbconvert_exporter": "python",
   "pygments_lexer": "ipython3",
   "version": "3.6.3"
  }
 },
 "nbformat": 4,
 "nbformat_minor": 2
}
